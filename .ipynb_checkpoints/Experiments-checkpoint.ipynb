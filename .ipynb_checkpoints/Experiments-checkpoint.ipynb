{
 "cells": [
  {
   "cell_type": "code",
   "execution_count": 347,
   "id": "2a87d055-9360-440a-b371-2be423af2244",
   "metadata": {},
   "outputs": [],
   "source": [
    "import numpy as np\n",
    "import matplotlib.pyplot as plt\n",
    "import math\n",
    "import scipy as sp\n",
    "from sklearn.linear_model import LinearRegression\n",
    "from sklearn.linear_model import Ridge\n",
    "import pandas as pd\n",
    "from collections import defaultdict"
   ]
  },
  {
   "cell_type": "markdown",
   "id": "b2c7d3a4-dd09-49ca-86fe-5b5da28f16fd",
   "metadata": {},
   "source": [
    "### Parameters"
   ]
  },
  {
   "cell_type": "code",
   "execution_count": 316,
   "id": "f038366c-6d99-4933-9f65-14d05c59c197",
   "metadata": {},
   "outputs": [],
   "source": [
    "p = 10 #number of treatments\n",
    "n = 1000 #number of observations per round\n",
    "k = 2 #highest-order interaction\n",
    "M = sum([int(sp.special.binom(p, i)) for i in range(k+1)]) #number of Fourier coefficients\n",
    "sigma = 1 #std of noise\n",
    "\n",
    "#half dosage\n",
    "half = np.array([.5]*p) "
   ]
  },
  {
   "cell_type": "markdown",
   "id": "b349dcd2-ec62-4f1b-8e1f-d3b16b0439c6",
   "metadata": {},
   "source": [
    "### Generate X from d"
   ]
  },
  {
   "cell_type": "code",
   "execution_count": 274,
   "id": "52cd749d-67c0-455c-a3ad-414db99eff8b",
   "metadata": {},
   "outputs": [],
   "source": [
    "#generates all subsets of [p] with cardinality at most k\n",
    "def all_sets(p, k):\n",
    "    if k==0:\n",
    "        return [[]]\n",
    "    if p==1:\n",
    "        return [[],[0]]\n",
    "    prev = all_sets(p-1, k)\n",
    "    ans = []\n",
    "    ans.extend(prev)\n",
    "    for x in prev:\n",
    "        if len(x)<k:\n",
    "            ans.append(x+[p-1])\n",
    "    ans.sort(key = lambda x:(len(x),x))  \n",
    "    return ans"
   ]
  },
  {
   "cell_type": "code",
   "execution_count": 375,
   "id": "92feaa32-c7cd-4fe4-beed-c4413c88a601",
   "metadata": {},
   "outputs": [],
   "source": [
    "interactions = all_sets(p,k)\n",
    "\n",
    "#randomly generates n x M design matrix using given dosage\n",
    "def makeX(d):\n",
    "    p = len(d)\n",
    "    X = []\n",
    "    for _ in range(n):\n",
    "        vals = [2*np.random.binomial(1, d[i])-1 for i in range(p)]\n",
    "        row = []\n",
    "        for S in interactions:\n",
    "            row.append(int(np.prod([vals[i] for i in S])))\n",
    "        X.append(row)\n",
    "    return X"
   ]
  },
  {
   "cell_type": "markdown",
   "id": "abe1f5a2-59c6-4a5c-ab77-7a9ef5ec36bc",
   "metadata": {},
   "source": [
    "### Generate $\\beta$, each coordinate from $U(l, h)$"
   ]
  },
  {
   "cell_type": "code",
   "execution_count": 276,
   "id": "fe80ae50-47e5-4577-bac3-2bca1bbe0432",
   "metadata": {},
   "outputs": [],
   "source": [
    "l = -1\n",
    "h = 1\n",
    "K = max(np.abs(l),np.abs(h))**2*M"
   ]
  },
  {
   "cell_type": "code",
   "execution_count": 277,
   "id": "3c375936-4230-4778-a0f3-d4f9c78993cb",
   "metadata": {},
   "outputs": [],
   "source": [
    "beta = np.random.uniform(low = l, high = h, size = M)"
   ]
  },
  {
   "cell_type": "markdown",
   "id": "831adab1-4da2-411a-9959-47227a207dff",
   "metadata": {},
   "source": [
    "### Single round with dosage $d$, returns $||\\hat{\\beta}-\\beta||^2$"
   ]
  },
  {
   "cell_type": "code",
   "execution_count": 278,
   "id": "1ec9122b-94d3-445e-8fa2-2a835ece9b03",
   "metadata": {},
   "outputs": [],
   "source": [
    "def single_round(beta, d):\n",
    "    X = makeX(d)\n",
    "    y = np.matmul(X, np.reshape(beta,(M,1)))+np.random.normal(loc = 0, scale = sigma, size = (n,1))\n",
    "    XTX = np.matmul(np.transpose(X), X)\n",
    "\n",
    "    evals = np.round(np.linalg.eigvalsh(XTX), 10)\n",
    "    min_ev = min(evals)\n",
    "    if min_ev==0:\n",
    "        ols_bound = float('inf')\n",
    "        ridge_bound = K\n",
    "        method = \"ridge\"\n",
    "        beta_hat = [0]*M\n",
    "    else:\n",
    "        ols_bound = M*sigma**2/min_ev\n",
    "        ridge_bound = K*M*n*sigma**2/(K*min_ev**2+M*n*sigma**2)\n",
    "        \n",
    "        if ols_bound<ridge_bound:\n",
    "            method = \"ols\"\n",
    "            reg = LinearRegression(fit_intercept = False).fit(X, y)\n",
    "            beta_hat = reg.coef_\n",
    "        else:\n",
    "            method = \"ridge\"\n",
    "            lambda_ridge = sigma**2*M*n/(K*min_ev)\n",
    "            clf = Ridge(alpha=lambda_ridge, fit_intercept = False)\n",
    "            clf.fit(X, y)\n",
    "            beta_hat = clf.coef_\n",
    "    return np.linalg.norm(beta-beta_hat)**2#, method, bounds"
   ]
  },
  {
   "cell_type": "markdown",
   "id": "9a9051c8-ba41-41ed-a60b-31533b791b33",
   "metadata": {},
   "source": [
    "### Generate dosage distance $x$ away from half dosage"
   ]
  },
  {
   "cell_type": "code",
   "execution_count": 326,
   "id": "c873b041-7387-446a-8d5e-7153291a1714",
   "metadata": {},
   "outputs": [],
   "source": [
    "#generates d such that ||d - half|| = x\n",
    "\n",
    "def generate_d(x, center = .5, norm = \"inf\"):\n",
    "    ans = []\n",
    "    if norm == \"inf\":\n",
    "        ans.append(center+(2*np.random.binomial(1, .5)-1)*x)\n",
    "        ans.extend(np.random.uniform(low = center-x, high = center+x, size = p-1))\n",
    "    elif norm == 2:\n",
    "        while not isValid(ans):\n",
    "            r = np.random.normal(loc = 0, scale = 1, size = p)\n",
    "            ans = [center+x*r[i]/np.linalg.norm(r)**2 for i in range(p)]\n",
    "    return ans\n",
    "\n",
    "#helper\n",
    "def isValid(d):\n",
    "    if d == []:\n",
    "        return False\n",
    "    return all([0<=d[i]<=1 for i in range(len(d))])"
   ]
  },
  {
   "cell_type": "markdown",
   "id": "1ea6565d-f69b-4525-b6c7-9f61d3766512",
   "metadata": {},
   "source": [
    "### For distances in max_dist, generate 300 random dosages and perform a single round. Plot shows average error across 300 trials"
   ]
  },
  {
   "cell_type": "code",
   "execution_count": 350,
   "id": "3fc7528c-73b9-46dd-8959-06bdc4dc5c01",
   "metadata": {},
   "outputs": [],
   "source": [
    "max_dists = np.arange(0, .4, .02)\n",
    "results_single_round = defaultdict(list) #format: key is max_dist, value is list of errors (list length = num trials)\n",
    "trials = 300\n",
    "for x in max_dists:\n",
    "    total_error=0\n",
    "    for _ in range(trials):\n",
    "        d = generate_d(x)\n",
    "        error = single_round(beta, d)\n",
    "        total_error += error\n",
    "        results_single_round[x].append(error)"
   ]
  },
  {
   "cell_type": "code",
   "execution_count": 351,
   "id": "803fdc10-520c-4ed0-ad0d-c3b07ad3f20a",
   "metadata": {},
   "outputs": [
    {
     "data": {
      "text/plain": [
       "Text(0, 0.5, 'L2 error')"
      ]
     },
     "execution_count": 351,
     "metadata": {},
     "output_type": "execute_result"
    },
    {
     "data": {
      "image/png": "[encoded data removed]",
      "text/plain": [
       "<Figure size 640x480 with 1 Axes>"
      ]
     },
     "metadata": {},
     "output_type": "display_data"
    }
   ],
   "source": [
    "plt.scatter(max_dists, [np.mean(results_single_round[x]) for x in max_dists], label = \"mean\")\n",
    "#plt.scatter(max_dists, [np.quantile(results_single_round[x], .75) for x in max_dists], label=\"75th\")\n",
    "#plt.scatter(max_dists, [np.quantile(results_single_round[x], .25) for x in max_dists], label=\"25th\")\n",
    "\n",
    "plt.legend()\n",
    "plt.title(\"Mean L2 error vs. distance from half dosage\")\n",
    "plt.xlabel(\"L-inf distance from half dosage\")\n",
    "plt.ylabel(\"L2 error\")"
   ]
  },
  {
   "cell_type": "markdown",
   "id": "10b3efcd-2ae1-466d-b08f-ee8e57112433",
   "metadata": {},
   "source": [
    "### Uniform dosages, dosage ranging as in xs. Perform a single round 1000 times for each dosage and plot the mean error"
   ]
  },
  {
   "cell_type": "code",
   "execution_count": 358,
   "id": "a2df07e8-8cc3-4261-99a1-a69919db7a1b",
   "metadata": {},
   "outputs": [],
   "source": [
    "xs = np.arange(.4, .61, .02)\n",
    "results_uniform = []\n",
    "trials = 200\n",
    "for x in xs:\n",
    "    d = [x]*p\n",
    "    s = 0\n",
    "    for t in range(trials):\n",
    "        s += single_round(beta, d)\n",
    "    results_uniform.append(s/trials)"
   ]
  },
  {
   "cell_type": "code",
   "execution_count": 359,
   "id": "0bc35f3c-52e4-4e0f-bc29-cb417c9de726",
   "metadata": {},
   "outputs": [
    {
     "data": {
      "text/plain": [
       "Text(0, 0.5, 'Average squared error')"
      ]
     },
     "execution_count": 359,
     "metadata": {},
     "output_type": "execute_result"
    },
    {
     "data": {
      "image/png": "[encoded data removed]",
      "text/plain": [
       "<Figure size 640x480 with 1 Axes>"
      ]
     },
     "metadata": {},
     "output_type": "display_data"
    }
   ],
   "source": [
    "plt.scatter(xs, results_uniform)\n",
    "plt.title(\"Mean L2 error, uniform dosage\")\n",
    "plt.xlabel(\"Dosage value (uniform)\")\n",
    "plt.ylabel(\"Average squared error\")"
   ]
  },
  {
   "cell_type": "markdown",
   "id": "fca91bbb-4651-4446-a00c-ae4bda434839",
   "metadata": {},
   "source": [
    "# Multiple rounds"
   ]
  },
  {
   "cell_type": "markdown",
   "id": "d91d0668-e8f8-4e67-8de2-67b6ea2323d7",
   "metadata": {},
   "source": [
    "### Parameters"
   ]
  },
  {
   "cell_type": "code",
   "execution_count": 381,
   "id": "2591a5a5-9da0-4789-bd3e-d0e3bffd5cbe",
   "metadata": {},
   "outputs": [],
   "source": [
    "p = 5 #number of treatments\n",
    "n = 50 #number of observations per round\n",
    "k = 2 #highest-order interaction\n",
    "num_rounds = 15 #number of rounds\n",
    "M = sum([int(sp.special.binom(p, i)) for i in range(k+1)])\n",
    "sigma = 1 #std of noise\n",
    "\n",
    "#half dosage\n",
    "half = np.array([.5]*p) \n",
    "interactions = all_sets(p,k)"
   ]
  },
  {
   "cell_type": "markdown",
   "id": "bc83b5f3-e9b4-493b-b00e-0e8c17dbced5",
   "metadata": {},
   "source": [
    "### Compute covariance matrix for dosage"
   ]
  },
  {
   "cell_type": "code",
   "execution_count": 382,
   "id": "753b7802-7305-4f8e-b995-75f6a265ff27",
   "metadata": {},
   "outputs": [],
   "source": [
    "#gives Sigma for given d\n",
    "def makeSigma(d):\n",
    "    S = all_sets(p, k)\n",
    "    A = np.zeros((M,M))\n",
    "    for i in range(M):\n",
    "        for j in range(M):\n",
    "            A[i][j] = np.prod([2*d[l]-1 for l in set(S[i]).symmetric_difference(set(S[j]))])\n",
    "    return A"
   ]
  },
  {
   "cell_type": "markdown",
   "id": "34d0a6ed-6aa5-4c9f-aca1-30edecf9c6bc",
   "metadata": {},
   "source": [
    "### Compute optimal dosage given previous rounds"
   ]
  },
  {
   "cell_type": "code",
   "execution_count": 383,
   "id": "d29c55a9-cf04-4463-9322-fa1f325aab25",
   "metadata": {},
   "outputs": [],
   "source": [
    "#computes new optimal dosage by maximizing minimum eigenvalue of new design matrix\n",
    "def new_d(P):\n",
    "    def f(d):\n",
    "        evals = np.linalg.eigvalsh(makeSigma(d)+P)\n",
    "        return -min(evals)\n",
    "    res = sp.optimize.minimize(f, x0 = half, method = 'SLSQP', bounds = [(0,1)]*p)\n",
    "    return res.x"
   ]
  },
  {
   "cell_type": "markdown",
   "id": "82806830-042e-48fc-9e6f-a684911578dd",
   "metadata": {},
   "source": [
    "### Given design matrix (including observations from all previous rounds), return L2 error"
   ]
  },
  {
   "cell_type": "code",
   "execution_count": 384,
   "id": "d33a13b8-9e19-4d3e-9b8d-5268b98a70f3",
   "metadata": {},
   "outputs": [],
   "source": [
    "def multiple_round(beta, X, y):\n",
    "    n = len(X)\n",
    "    #y = np.matmul(X, np.reshape(beta,(M,1)))+np.random.normal(loc = 0, scale = sigma, size = (n,1))\n",
    "    XTX = np.matmul(np.transpose(X), X)\n",
    "\n",
    "    evals = np.round(np.linalg.eigvalsh(XTX), 10)\n",
    "    min_ev = min(evals)\n",
    "    if min_ev==0:\n",
    "        ols_bound = float('inf')\n",
    "        ridge_bound = K\n",
    "        method = \"ridge\"\n",
    "        beta_hat = [0]*M\n",
    "    else:\n",
    "        ols_bound = M*sigma**2/min_ev\n",
    "        ridge_bound = K*M*n*sigma**2/(K*min_ev**2+M*n*sigma**2)\n",
    "        \n",
    "        if ols_bound<ridge_bound:\n",
    "            method = \"ols\"\n",
    "            reg = LinearRegression(fit_intercept = False).fit(X, y)\n",
    "            beta_hat = reg.coef_\n",
    "        else:\n",
    "            method = \"ridge\"\n",
    "            lambda_ridge = sigma**2*M*n/(K*min_ev)\n",
    "            clf = Ridge(alpha=lambda_ridge, fit_intercept = False)\n",
    "            clf.fit(X, y)\n",
    "            beta_hat = clf.coef_\n",
    "    return np.linalg.norm(beta-beta_hat)**2"
   ]
  },
  {
   "cell_type": "markdown",
   "id": "c9af67f7-4f95-4245-a708-eaf73603e75e",
   "metadata": {},
   "source": [
    "### Generate $\\beta$"
   ]
  },
  {
   "cell_type": "code",
   "execution_count": 385,
   "id": "d819bb84-c6fd-4807-a463-029f22e9e33b",
   "metadata": {},
   "outputs": [],
   "source": [
    "beta = np.random.uniform(low = l, high = h, size = M)\n",
    "d0 = [.5]*p"
   ]
  },
  {
   "cell_type": "markdown",
   "id": "89e27ac1-8708-4de5-9447-84c25e23ba67",
   "metadata": {},
   "source": [
    "### Our method"
   ]
  },
  {
   "cell_type": "code",
   "execution_count": 386,
   "id": "1c84148e-b162-4650-a047-0e15c0b233dc",
   "metadata": {},
   "outputs": [],
   "source": [
    "results_multiround = defaultdict(list)\n",
    "\n",
    "trials = 50\n",
    "\n",
    "for _ in range(trials):\n",
    "    X = makeX(d0)\n",
    "    y = list(np.matmul(X, np.reshape(beta,(M,1)))+np.random.normal(loc = 0, scale = sigma, size = (n,1)))\n",
    "    for r in range(num_rounds):\n",
    "        error = multiple_round(beta, X, y)\n",
    "        results_multiround[r].append(error)\n",
    "        P = 1/n*np.matmul(np.transpose(X), X)\n",
    "        d = list(new_d(P))\n",
    "        new_X = makeX(d)\n",
    "        X.extend(new_X)\n",
    "        y.extend(list(np.matmul(new_X, np.reshape(beta,(M,1)))+np.random.normal(loc = 0, scale = sigma, size = (n,1))))"
   ]
  },
  {
   "cell_type": "markdown",
   "id": "c117eb47-dd4b-4165-b2b4-0f23542b0ce0",
   "metadata": {},
   "source": [
    "### Choose half dosage at each round"
   ]
  },
  {
   "cell_type": "code",
   "execution_count": 387,
   "id": "a7778b8b-b7a1-48b9-a174-d5f11b641e0e",
   "metadata": {},
   "outputs": [],
   "source": [
    "results_multiround_half = defaultdict(list)\n",
    "\n",
    "for _ in range(trials):\n",
    "    X = makeX(d0)\n",
    "    y = list(np.matmul(X, np.reshape(beta,(M,1)))+np.random.normal(loc = 0, scale = sigma, size = (n,1)))\n",
    "    for r in range(num_rounds):\n",
    "        results_multiround_half[r].append(multiple_round(beta, X, y))\n",
    "        new_X = makeX(half)\n",
    "        X.extend(new_X)\n",
    "        y.extend(list(np.matmul(new_X, np.reshape(beta,(M,1)))+np.random.normal(loc = 0, scale = sigma, size = (n,1))))"
   ]
  },
  {
   "cell_type": "markdown",
   "id": "37049cf0-a1a6-46b2-91fd-267a56d351f8",
   "metadata": {},
   "source": [
    "### Choose random dosage (each coordinate $\\sim U(0,1)$) at each round"
   ]
  },
  {
   "cell_type": "code",
   "execution_count": 388,
   "id": "2e52943d-1cc9-4ae8-92d2-7abef60bc196",
   "metadata": {},
   "outputs": [],
   "source": [
    "results_multiround_random = defaultdict(list)\n",
    "\n",
    "for _ in range(trials):\n",
    "    X = makeX(d0)\n",
    "    y = list(np.matmul(X, np.reshape(beta,(M,1)))+np.random.normal(loc = 0, scale = sigma, size = (n,1)))\n",
    "    for r in range(num_rounds):\n",
    "        results_multiround_random[r].append(multiple_round(beta, X, y))\n",
    "        new_X = makeX(np.random.uniform(low = 0, high = 1, size = p))\n",
    "        X.extend(new_X)\n",
    "        y.extend(list(np.matmul(new_X, np.reshape(beta,(M,1)))+np.random.normal(loc = 0, scale = sigma, size = (n,1))))"
   ]
  },
  {
   "cell_type": "code",
   "execution_count": 389,
   "id": "6f92bb47-5f13-43cf-93c8-6211bd1dc581",
   "metadata": {},
   "outputs": [
    {
     "data": {
      "text/plain": [
       "<matplotlib.legend.Legend at 0x2e48f95e0>"
      ]
     },
     "execution_count": 389,
     "metadata": {},
     "output_type": "execute_result"
    },
    {
     "data": {
      "image/png": "[encoded data removed]",
      "text/plain": [
       "<Figure size 640x480 with 1 Axes>"
      ]
     },
     "metadata": {},
     "output_type": "display_data"
    }
   ],
   "source": [
    "plt.plot(range(num_rounds), [np.mean(results_multiround[r]) for r in range(num_rounds)], label=\"our method\")\n",
    "plt.plot(range(num_rounds), [np.mean(results_multiround_half[r]) for r in range(num_rounds)], label=\"half\")\n",
    "plt.plot(range(num_rounds), [np.mean(results_multiround_random[r]) for r in range(num_rounds)], label=\"random\")\n",
    "\n",
    "plt.title(\"Multiround\")\n",
    "plt.xlabel(\"Round\")\n",
    "plt.ylabel(\"Average L2 error\")\n",
    "plt.legend()"
   ]
  },
  {
   "cell_type": "code",
   "execution_count": null,
   "id": "8d86a0fb-ed86-4cdb-97be-fc6397537ab7",
   "metadata": {},
   "outputs": [],
   "source": []
  }
 ],
 "metadata": {
  "kernelspec": {
   "display_name": "conda-base",
   "language": "python",
   "name": "base"
  },
  "language_info": {
   "codemirror_mode": {
    "name": "ipython",
    "version": 3
   },
   "file_extension": ".py",
   "mimetype": "text/x-python",
   "name": "python",
   "nbconvert_exporter": "python",
   "pygments_lexer": "ipython3",
   "version": "3.12.2"
  }
 },
 "nbformat": 4,
 "nbformat_minor": 5
}
